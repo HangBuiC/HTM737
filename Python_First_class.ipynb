{
  "nbformat": 4,
  "nbformat_minor": 0,
  "metadata": {
    "colab": {
      "provenance": [],
      "authorship_tag": "ABX9TyOdNHBb/n290eC5pWL5a3dN",
      "include_colab_link": true
    },
    "kernelspec": {
      "name": "python3",
      "display_name": "Python 3"
    },
    "language_info": {
      "name": "python"
    }
  },
  "cells": [
    {
      "cell_type": "markdown",
      "metadata": {
        "id": "view-in-github",
        "colab_type": "text"
      },
      "source": [
        "<a href=\"https://colab.research.google.com/github/HangBuiC/HTM737/blob/main/Python_First_class.ipynb\" target=\"_parent\"><img src=\"https://colab.research.google.com/assets/colab-badge.svg\" alt=\"Open In Colab\"/></a>"
      ]
    },
    {
      "cell_type": "code",
      "execution_count": 1,
      "metadata": {
        "id": "0ntF2MNQ3zr3"
      },
      "outputs": [],
      "source": [
        "mname = 'john'"
      ]
    },
    {
      "cell_type": "code",
      "source": [
        "print(mname)"
      ],
      "metadata": {
        "colab": {
          "base_uri": "https://localhost:8080/"
        },
        "id": "JMNn4pRg4WYw",
        "outputId": "2f7ba83c-c18a-4e42-93ec-9ba281594050"
      },
      "execution_count": 2,
      "outputs": [
        {
          "output_type": "stream",
          "name": "stdout",
          "text": [
            "john\n"
          ]
        }
      ]
    },
    {
      "cell_type": "code",
      "source": [
        "print(mname[0:2]) #the value after the colon is NOT included #which means read up to 2. #What did here is that we sliced to string by index which is the order, location of the character.\n"
      ],
      "metadata": {
        "colab": {
          "base_uri": "https://localhost:8080/"
        },
        "id": "PgTWpM3N4oum",
        "outputId": "bd97c885-4ea6-464e-b279-ef20d88c6667"
      },
      "execution_count": 5,
      "outputs": [
        {
          "output_type": "stream",
          "name": "stdout",
          "text": [
            "jo\n"
          ]
        }
      ]
    },
    {
      "cell_type": "markdown",
      "source": [],
      "metadata": {
        "id": "WNP4HOJr54yr"
      }
    },
    {
      "cell_type": "code",
      "source": [
        "MCPHS_zip_code = '02115-2345'"
      ],
      "metadata": {
        "id": "HYaN7aDE560a"
      },
      "execution_count": 6,
      "outputs": []
    },
    {
      "cell_type": "code",
      "source": [
        "print(MCPHS_zip_code[0:5])"
      ],
      "metadata": {
        "colab": {
          "base_uri": "https://localhost:8080/"
        },
        "id": "MeNS2INJ6PHH",
        "outputId": "4fcc14e0-c161-4a11-cd99-627a5948ec90"
      },
      "execution_count": 7,
      "outputs": [
        {
          "output_type": "stream",
          "name": "stdout",
          "text": [
            "02115\n"
          ]
        }
      ]
    },
    {
      "cell_type": "code",
      "source": [
        "John_age = 65"
      ],
      "metadata": {
        "id": "xoGNEgxg7z6t"
      },
      "execution_count": 8,
      "outputs": []
    },
    {
      "cell_type": "code",
      "source": [
        "print(John_age - 5)"
      ],
      "metadata": {
        "colab": {
          "base_uri": "https://localhost:8080/"
        },
        "id": "bItT5w0r727T",
        "outputId": "00109f32-cd19-426c-8c96-4bc92a4accea"
      },
      "execution_count": 12,
      "outputs": [
        {
          "output_type": "stream",
          "name": "stdout",
          "text": [
            "60\n"
          ]
        }
      ]
    },
    {
      "cell_type": "code",
      "source": [
        "john_weight = 150.7 #this is float because it has decimals\n",
        "print(int(john_weight)) #integer cut the decimal, not smart enough to round up using \"integer\"."
      ],
      "metadata": {
        "colab": {
          "base_uri": "https://localhost:8080/"
        },
        "id": "gQEmGolj8ikB",
        "outputId": "3f30539b-9bca-4c77-bd0f-2078cc329292"
      },
      "execution_count": 14,
      "outputs": [
        {
          "output_type": "stream",
          "name": "stdout",
          "text": [
            "150\n"
          ]
        }
      ]
    },
    {
      "cell_type": "code",
      "source": [
        "john_weight_int = 150"
      ],
      "metadata": {
        "id": "CTO9urIN9TKk"
      },
      "execution_count": 17,
      "outputs": []
    },
    {
      "cell_type": "code",
      "source": [
        "print(float(john_weight_int))"
      ],
      "metadata": {
        "colab": {
          "base_uri": "https://localhost:8080/"
        },
        "id": "w6iN9ehV9ZVs",
        "outputId": "91cd2d86-f743-40c2-dd94-fdbf841f2546"
      },
      "execution_count": 19,
      "outputs": [
        {
          "output_type": "stream",
          "name": "stdout",
          "text": [
            "150.0\n"
          ]
        }
      ]
    },
    {
      "cell_type": "code",
      "source": [
        "john_weight_str = str(john_weight_int) #converted to text"
      ],
      "metadata": {
        "id": "UOi-58ix9zE2"
      },
      "execution_count": 20,
      "outputs": []
    },
    {
      "cell_type": "code",
      "source": [
        "print(john_weight_int /2)"
      ],
      "metadata": {
        "colab": {
          "base_uri": "https://localhost:8080/"
        },
        "id": "hq75f3kh-N6p",
        "outputId": "bbf0ae81-3a9c-43ca-900a-d35ac36b5a6b"
      },
      "execution_count": 21,
      "outputs": [
        {
          "output_type": "stream",
          "name": "stdout",
          "text": [
            "75.0\n"
          ]
        }
      ]
    },
    {
      "cell_type": "code",
      "source": [
        "print(john_weight_str/2 ) #error because we can not divide text (str is converted to text)"
      ],
      "metadata": {
        "colab": {
          "base_uri": "https://localhost:8080/",
          "height": 139
        },
        "id": "o79hhHA9-Ug1",
        "outputId": "304e9c2f-4af2-4be8-fb85-55a5a084ea44"
      },
      "execution_count": 22,
      "outputs": [
        {
          "output_type": "error",
          "ename": "TypeError",
          "evalue": "unsupported operand type(s) for /: 'str' and 'int'",
          "traceback": [
            "\u001b[0;31m---------------------------------------------------------------------------\u001b[0m",
            "\u001b[0;31mTypeError\u001b[0m                                 Traceback (most recent call last)",
            "\u001b[0;32m/tmp/ipython-input-2541668352.py\u001b[0m in \u001b[0;36m<cell line: 0>\u001b[0;34m()\u001b[0m\n\u001b[0;32m----> 1\u001b[0;31m \u001b[0mprint\u001b[0m\u001b[0;34m(\u001b[0m\u001b[0mjohn_weight_str\u001b[0m\u001b[0;34m/\u001b[0m\u001b[0;36m2\u001b[0m \u001b[0;34m)\u001b[0m\u001b[0;34m\u001b[0m\u001b[0;34m\u001b[0m\u001b[0m\n\u001b[0m",
            "\u001b[0;31mTypeError\u001b[0m: unsupported operand type(s) for /: 'str' and 'int'"
          ]
        }
      ]
    },
    {
      "cell_type": "code",
      "source": [
        "first_list = ['a',1]"
      ],
      "metadata": {
        "id": "v-fIM93QBEyC"
      },
      "execution_count": 23,
      "outputs": []
    },
    {
      "cell_type": "code",
      "source": [
        "print(first_list[0])"
      ],
      "metadata": {
        "colab": {
          "base_uri": "https://localhost:8080/"
        },
        "id": "_tvxEQPrBMoj",
        "outputId": "49eaeaaf-b87a-45a6-bfa5-71a38683f56a"
      },
      "execution_count": 25,
      "outputs": [
        {
          "output_type": "stream",
          "name": "stdout",
          "text": [
            "a\n"
          ]
        }
      ]
    },
    {
      "cell_type": "code",
      "source": [
        "first_list[0] = 'ab' #Change a -> ab"
      ],
      "metadata": {
        "id": "r2GqAY0ABaE2"
      },
      "execution_count": 26,
      "outputs": []
    },
    {
      "cell_type": "code",
      "source": [
        "print(first_list)"
      ],
      "metadata": {
        "colab": {
          "base_uri": "https://localhost:8080/"
        },
        "id": "ERRW7cvWBlQS",
        "outputId": "fc0e7a31-3e4e-495f-f207-50e64feffaee"
      },
      "execution_count": 27,
      "outputs": [
        {
          "output_type": "stream",
          "name": "stdout",
          "text": [
            "['ab', 1]\n"
          ]
        }
      ]
    },
    {
      "cell_type": "code",
      "source": [
        "firs_tuple = ('a',1) #tuple khác list ở chỗ là nó ko đổi value bên trong được. Fixed case."
      ],
      "metadata": {
        "id": "42bKX3eRCG9L"
      },
      "execution_count": 29,
      "outputs": []
    },
    {
      "cell_type": "code",
      "source": [
        "my_dictionary = {'John':65}\n"
      ],
      "metadata": {
        "id": "GZaHYknNCoJh"
      },
      "execution_count": 30,
      "outputs": []
    },
    {
      "cell_type": "code",
      "source": [
        "first_dict = {'john_age':65, 'heather_ag':45}"
      ],
      "metadata": {
        "id": "D2jdRZffDctp"
      },
      "execution_count": 32,
      "outputs": []
    },
    {
      "cell_type": "code",
      "source": [
        "print(first_dict['john_age'])"
      ],
      "metadata": {
        "colab": {
          "base_uri": "https://localhost:8080/"
        },
        "id": "5i7Tok7QD1M3",
        "outputId": "9a37c8d8-e3d3-4177-f6d3-ddbf1b93714e"
      },
      "execution_count": 34,
      "outputs": [
        {
          "output_type": "stream",
          "name": "stdout",
          "text": [
            "65\n"
          ]
        }
      ]
    },
    {
      "cell_type": "code",
      "source": [
        "def f_to_c(temp_f):\n",
        " temp_c = round((temp_f - 32) *5/9)\n",
        " return temp_c"
      ],
      "metadata": {
        "id": "6nO1YNoKGqgO"
      },
      "execution_count": 47,
      "outputs": []
    },
    {
      "cell_type": "code",
      "source": [
        "f_to_c(53)"
      ],
      "metadata": {
        "colab": {
          "base_uri": "https://localhost:8080/"
        },
        "id": "0I42p-sMDuK5",
        "outputId": "94850b26-fe90-4e60-f9bd-4dac399a0def"
      },
      "execution_count": 48,
      "outputs": [
        {
          "output_type": "execute_result",
          "data": {
            "text/plain": [
              "12"
            ]
          },
          "metadata": {},
          "execution_count": 48
        }
      ]
    },
    {
      "cell_type": "code",
      "source": [
        "round(f_to_c(53),0)"
      ],
      "metadata": {
        "colab": {
          "base_uri": "https://localhost:8080/"
        },
        "id": "IhvqILeeH0dS",
        "outputId": "c4eb685f-32bc-461d-b1d6-06eb5334ba77"
      },
      "execution_count": 46,
      "outputs": [
        {
          "output_type": "execute_result",
          "data": {
            "text/plain": [
              "12.0"
            ]
          },
          "metadata": {},
          "execution_count": 46
        }
      ]
    },
    {
      "cell_type": "code",
      "source": [
        "def my_secret_function(height,weight):\n",
        "    bmi = weight / (height)**2\n",
        "    return bmi\n",
        ""
      ],
      "metadata": {
        "id": "juN3PsmOJE9K"
      },
      "execution_count": 54,
      "outputs": []
    },
    {
      "cell_type": "code",
      "source": [
        "my_secret_function(1.7,65)"
      ],
      "metadata": {
        "colab": {
          "base_uri": "https://localhost:8080/"
        },
        "id": "w1NVJXQSJkfL",
        "outputId": "7fb776bc-84a3-4a5a-9d38-06e17a2661a3"
      },
      "execution_count": 55,
      "outputs": [
        {
          "output_type": "execute_result",
          "data": {
            "text/plain": [
              "22.49134948096886"
            ]
          },
          "metadata": {},
          "execution_count": 55
        }
      ]
    },
    {
      "cell_type": "code",
      "source": [
        "my_secret_function(height =1.7,weight =65)"
      ],
      "metadata": {
        "colab": {
          "base_uri": "https://localhost:8080/"
        },
        "id": "cxqJfbZTTdf-",
        "outputId": "5639dd50-d6f3-4ab9-9e50-a88606a73088"
      },
      "execution_count": 58,
      "outputs": [
        {
          "output_type": "execute_result",
          "data": {
            "text/plain": [
              "22.49134948096886"
            ]
          },
          "metadata": {},
          "execution_count": 58
        }
      ]
    },
    {
      "cell_type": "code",
      "source": [],
      "metadata": {
        "id": "aCUdutpfJfNR"
      },
      "execution_count": null,
      "outputs": []
    },
    {
      "cell_type": "markdown",
      "source": [],
      "metadata": {
        "id": "a4qn33g48-Nm"
      }
    },
    {
      "cell_type": "code",
      "source": [
        "import pandas as pd"
      ],
      "metadata": {
        "id": "qxiosMhPRmeZ"
      },
      "execution_count": 57,
      "outputs": []
    }
  ]
}